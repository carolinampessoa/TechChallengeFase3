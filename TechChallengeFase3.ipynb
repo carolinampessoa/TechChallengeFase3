{
  "nbformat": 4,
  "nbformat_minor": 0,
  "metadata": {
    "colab": {
      "provenance": [],
      "gpuType": "T4",
      "authorship_tag": "ABX9TyP9CWZxUTmkVr+K1k56mfyx",
      "include_colab_link": true
    },
    "kernelspec": {
      "name": "python3",
      "display_name": "Python 3"
    },
    "language_info": {
      "name": "python"
    },
    "accelerator": "GPU"
  },
  "cells": [
    {
      "cell_type": "markdown",
      "metadata": {
        "id": "view-in-github",
        "colab_type": "text"
      },
      "source": [
        "<a href=\"https://colab.research.google.com/github/carolinampessoa/TechChallengeFase3/blob/main/TechChallengeFase3.ipynb\" target=\"_parent\"><img src=\"https://colab.research.google.com/assets/colab-badge.svg\" alt=\"Open In Colab\"/></a>"
      ]
    },
    {
      "cell_type": "code",
      "source": [
        "#!pip install \"unsloth[colab-new] @ git+https://github.com/unslothai/unsloth.git\"\n",
        "#!pip install --no-deps xformers \"trl<0.9.0\" peft accelerate bitsandbytes\n",
        "#!pip install transformers datasets"
      ],
      "metadata": {
        "id": "ddP6HNrrYuLm"
      },
      "execution_count": 6,
      "outputs": []
    },
    {
      "cell_type": "code",
      "source": [
        "from google.colab import drive\n",
        "drive.mount('/content/drive')"
      ],
      "metadata": {
        "colab": {
          "base_uri": "https://localhost:8080/"
        },
        "id": "X66OZ4D1ZFXK",
        "outputId": "81dfa331-ed5f-4412-d1c0-4dfde441552a"
      },
      "execution_count": 4,
      "outputs": [
        {
          "output_type": "stream",
          "name": "stdout",
          "text": [
            "Mounted at /content/drive\n"
          ]
        }
      ]
    },
    {
      "cell_type": "markdown",
      "source": [
        "Importação das bibliotecas"
      ],
      "metadata": {
        "id": "CszpREdgXFCU"
      }
    },
    {
      "cell_type": "code",
      "source": [
        "from unsloth import FastLanguageModel, is_bfloat16_supported\n",
        "import pandas as pd\n",
        "import torch\n",
        "import json\n",
        "from datasets import load_dataset\n",
        "from trl import SFTTrainer\n",
        "from transformers import TrainingArguments\n",
        "\n",
        "DATA_PATH = \"/content/drive/MyDrive/Colab Notebooks/trn.json\"\n",
        "OUTPUT_PATH_DATASET = \"/content/drive/MyDrive/Colab Notebooks/formatted_trn.json\"\n",
        "max_seq_length = 2048\n",
        "dtype = None\n",
        "load_in_4bit = True\n",
        "fourbit_models = [\n",
        "    \"unsloth/mistral-7b-v0.3-bnb-4bit\",\n",
        "    \"unsloth/mistral-7b-instruct-v0.3-bnb-4bit\",\n",
        "    \"unsloth/llama-3-8b-bnb-4bit\",\n",
        "    \"unsloth/llama-3-8b-Instruct-bnb-4bit\",\n",
        "    \"unsloth/llama-3-70b-bnb-4bit\",\n",
        "    \"unsloth/Phi-3-mini-4k-instruct\",\n",
        "    \"unsloth/Phi-3-medium-4k-instruct\",\n",
        "    \"unsloth/mistral-7b-bnb-4bit\",\n",
        "    \"unsloth/gemma-7b-bnb-4bit\",\n",
        "]\n"
      ],
      "metadata": {
        "id": "yKc2lyE6X0bO"
      },
      "execution_count": 8,
      "outputs": []
    },
    {
      "cell_type": "markdown",
      "source": [
        "Preparação do Dataset"
      ],
      "metadata": {
        "id": "7EeM2zrSXbN4"
      }
    },
    {
      "cell_type": "code",
      "source": [
        "import pandas as pd\n",
        "\n",
        "# O dataset possuía algumas linhas \"corrompidas\" devido a aspas desalinhadas, por isso incluímos uma validação para ignorá-las\n",
        "with open(\"/content/drive/MyDrive/Colab Notebooks/trn.json\", \"r\", encoding=\"utf-8\") as f:\n",
        "    records = []\n",
        "    for line in f:\n",
        "        try:\n",
        "            records.append(json.loads(line))\n",
        "        except json.JSONDecodeError:\n",
        "            continue  # ignora linha corrompida\n",
        "\n",
        "df = pd.DataFrame(records)[[\"title\",\"content\"]].dropna()\n",
        "df = df[df[\"content\"].str.strip() != \"\"]\n",
        "df = df[df[\"title\"].str.strip() != \"\"]\n",
        "\n",
        "\n",
        "print(df.head())"
      ],
      "metadata": {
        "id": "cjEhTqUIX1F2",
        "colab": {
          "base_uri": "https://localhost:8080/"
        },
        "outputId": "58e35934-468a-409b-c98c-b7c41d0f4b14"
      },
      "execution_count": 21,
      "outputs": [
        {
          "output_type": "stream",
          "name": "stdout",
          "text": [
            "                          title  \\\n",
            "0   Girls Ballet Tutu Neon Pink   \n",
            "3                 Mog's Kittens   \n",
            "7   Girls Ballet Tutu Neon Blue   \n",
            "12                  The Prophet   \n",
            "13    Rightly Dividing the Word   \n",
            "\n",
            "                                              content  \n",
            "0   High quality 3 layer ballet tutu. 12 inches in...  \n",
            "3   Judith Kerr&#8217;s best&#8211;selling adventu...  \n",
            "7   Dance tutu for girls ages 2-8 years. Perfect f...  \n",
            "12  In a distant, timeless place, a mysterious pro...  \n",
            "13         --This text refers to thePaperbackedition.  \n"
          ]
        }
      ]
    },
    {
      "cell_type": "markdown",
      "source": [
        "Chamada do Foundation Model"
      ],
      "metadata": {
        "id": "hYVxB_R6XftS"
      }
    },
    {
      "cell_type": "code",
      "source": [],
      "metadata": {
        "id": "T9gI85xvX1qy"
      },
      "execution_count": null,
      "outputs": []
    },
    {
      "cell_type": "markdown",
      "source": [
        "Execução do Fine Tuning"
      ],
      "metadata": {
        "id": "S9IRVVhiXjab"
      }
    },
    {
      "cell_type": "code",
      "source": [],
      "metadata": {
        "id": "CdGpAODBX2L2"
      },
      "execution_count": null,
      "outputs": []
    },
    {
      "cell_type": "markdown",
      "source": [
        "Geração de Respostas"
      ],
      "metadata": {
        "id": "3gpyxec7XoZ1"
      }
    },
    {
      "cell_type": "code",
      "source": [],
      "metadata": {
        "id": "M8OuhZHfX3D4"
      },
      "execution_count": null,
      "outputs": []
    },
    {
      "cell_type": "markdown",
      "source": [
        "Conclusões e Considerações Finais"
      ],
      "metadata": {
        "id": "TXv_rAP0Xsk1"
      }
    },
    {
      "cell_type": "markdown",
      "source": [],
      "metadata": {
        "id": "I1wvsEDOX4Im"
      }
    }
  ]
}