{
  "nbformat": 4,
  "nbformat_minor": 0,
  "metadata": {
    "colab": {
      "provenance": []
    },
    "kernelspec": {
      "name": "python3",
      "display_name": "Python 3"
    },
    "language_info": {
      "name": "python"
    }
  },
  "cells": [
    {
      "cell_type": "markdown",
      "source": [
        "Importação das bibliotecas"
      ],
      "metadata": {
        "id": "CszpREdgXFCU"
      }
    },
    {
      "cell_type": "code",
      "source": [],
      "metadata": {
        "id": "yKc2lyE6X0bO"
      },
      "execution_count": null,
      "outputs": []
    },
    {
      "cell_type": "markdown",
      "source": [
        "Preparação do Dataset"
      ],
      "metadata": {
        "id": "7EeM2zrSXbN4"
      }
    },
    {
      "cell_type": "code",
      "source": [],
      "metadata": {
        "id": "cjEhTqUIX1F2"
      },
      "execution_count": null,
      "outputs": []
    },
    {
      "cell_type": "markdown",
      "source": [
        "Chamada do Foundation Model"
      ],
      "metadata": {
        "id": "hYVxB_R6XftS"
      }
    },
    {
      "cell_type": "code",
      "source": [],
      "metadata": {
        "id": "T9gI85xvX1qy"
      },
      "execution_count": null,
      "outputs": []
    },
    {
      "cell_type": "markdown",
      "source": [
        "Execução do Fine Tuning"
      ],
      "metadata": {
        "id": "S9IRVVhiXjab"
      }
    },
    {
      "cell_type": "code",
      "source": [],
      "metadata": {
        "id": "CdGpAODBX2L2"
      },
      "execution_count": null,
      "outputs": []
    },
    {
      "cell_type": "markdown",
      "source": [
        "Geração de Respostas"
      ],
      "metadata": {
        "id": "3gpyxec7XoZ1"
      }
    },
    {
      "cell_type": "code",
      "source": [],
      "metadata": {
        "id": "M8OuhZHfX3D4"
      },
      "execution_count": null,
      "outputs": []
    },
    {
      "cell_type": "markdown",
      "source": [
        "Conclusões e Considerações Finais"
      ],
      "metadata": {
        "id": "TXv_rAP0Xsk1"
      }
    },
    {
      "cell_type": "markdown",
      "source": [],
      "metadata": {
        "id": "I1wvsEDOX4Im"
      }
    }
  ]
}